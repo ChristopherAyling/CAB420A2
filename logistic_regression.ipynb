{
 "cells": [
  {
   "cell_type": "code",
   "execution_count": 1,
   "metadata": {},
   "outputs": [],
   "source": [
    "import numpy as np\n",
    "import matplotlib.pyplot as plt"
   ]
  },
  {
   "cell_type": "markdown",
   "metadata": {},
   "source": [
    "## Loading and Splitting Data"
   ]
  },
  {
   "cell_type": "code",
   "execution_count": 14,
   "metadata": {},
   "outputs": [
    {
     "name": "stdout",
     "output_type": "stream",
     "text": [
      "train examples:\t100\n",
      "test examples:\t400\n"
     ]
    }
   ],
   "source": [
    "train_set = np.genfromtxt('set4_train.csv', delimiter=',')\n",
    "ytr = train_set[:, -1]\n",
    "Xtr = train_set[:, :-1]\n",
    "\n",
    "test_set = np.genfromtxt('set4_test.csv', delimiter=',')\n",
    "yte = test_set[:, -1]\n",
    "Xte = test_set[:, :-1]\n",
    "\n",
    "print(\n",
    "    \"train examples:\\t{0}\\ntest examples:\\t{1}\".format(len(ytr), len(yte))\n",
    ")"
   ]
  },
  {
   "cell_type": "code",
   "execution_count": 3,
   "metadata": {},
   "outputs": [
    {
     "data": {
      "text/plain": [
       "<matplotlib.image.AxesImage at 0x2b8a211dc18>"
      ]
     },
     "metadata": {},
     "output_type": "display_data"
    },
    {
     "data": {
      "image/png": "[encoded data removed]",
      "text/plain": [
       "<Figure size 432x288 with 1 Axes>"
      ]
     },
     "metadata": {},
     "output_type": "display_data"
    }
   ],
   "source": [
    "# positive example\n",
    "display(plt.imshow(np.reshape(Xtr[5], (8,8)), cmap='gray'))"
   ]
  },
  {
   "cell_type": "code",
   "execution_count": 4,
   "metadata": {},
   "outputs": [
    {
     "data": {
      "text/plain": [
       "<matplotlib.image.AxesImage at 0x2b8a5172208>"
      ]
     },
     "metadata": {},
     "output_type": "display_data"
    },
    {
     "data": {
      "image/png": "[encoded data removed]",
      "text/plain": [
       "<Figure size 432x288 with 1 Axes>"
      ]
     },
     "metadata": {},
     "output_type": "display_data"
    }
   ],
   "source": [
    "# negative example\n",
    "display(plt.imshow(np.reshape(Xtr[-5], (8,8)), cmap='gray'))"
   ]
  },
  {
   "cell_type": "markdown",
   "metadata": {},
   "source": [
    "## Logistic Regressor Implementation"
   ]
  },
  {
   "cell_type": "code",
   "execution_count": 5,
   "metadata": {},
   "outputs": [
    {
     "name": "stderr",
     "output_type": "stream",
     "text": [
      "c:\\program files\\python\\lib\\site-packages\\h5py\\__init__.py:36: FutureWarning: Conversion of the second argument of issubdtype from `float` to `np.floating` is deprecated. In future, it will be treated as `np.float64 == np.dtype(float).type`.\n",
      "  from ._conv import register_converters as _register_converters\n",
      "Using TensorFlow backend.\n"
     ]
    }
   ],
   "source": [
    "import keras\n",
    "from keras.layers import Dense\n",
    "from keras import Sequential\n",
    "import keras.backend as K"
   ]
  },
  {
   "cell_type": "code",
   "execution_count": 6,
   "metadata": {},
   "outputs": [],
   "source": [
    "model = Sequential()\n",
    "model.add(Dense(1, input_dim=64, activation='tanh'))\n",
    "model.compile(optimizer='SGD', loss='binary_crossentropy', metrics=['binary_accuracy'])"
   ]
  },
  {
   "cell_type": "code",
   "execution_count": 7,
   "metadata": {},
   "outputs": [
    {
     "name": "stdout",
     "output_type": "stream",
     "text": [
      "Epoch 1/100\n",
      "100/100 [==============================] - 0s 1ms/step - loss: -0.5719 - binary_accuracy: 0.4600\n",
      "Epoch 2/100\n",
      "100/100 [==============================] - 0s 180us/step - loss: -0.7249 - binary_accuracy: 0.4100\n",
      "Epoch 3/100\n",
      "100/100 [==============================] - 0s 201us/step - loss: -0.8701 - binary_accuracy: 0.4400\n",
      "Epoch 4/100\n",
      "100/100 [==============================] - 0s 221us/step - loss: 5.4395 - binary_accuracy: 0.5000\n",
      "Epoch 5/100\n",
      "100/100 [==============================] - 0s 291us/step - loss: 2.3112 - binary_accuracy: 0.5000\n",
      "Epoch 6/100\n",
      "100/100 [==============================] - 0s 231us/step - loss: -1.5563 - binary_accuracy: 0.4600\n",
      "Epoch 7/100\n",
      "100/100 [==============================] - 0s 221us/step - loss: 0.0000e+00 - binary_accuracy: 0.5000\n",
      "Epoch 8/100\n",
      "100/100 [==============================] - 0s 251us/step - loss: 0.0000e+00 - binary_accuracy: 0.5000\n",
      "Epoch 9/100\n",
      "100/100 [==============================] - 0s 261us/step - loss: 0.0000e+00 - binary_accuracy: 0.5000\n",
      "Epoch 10/100\n",
      "100/100 [==============================] - 0s 201us/step - loss: 0.0000e+00 - binary_accuracy: 0.5000\n",
      "Epoch 11/100\n",
      "100/100 [==============================] - 0s 251us/step - loss: 0.0000e+00 - binary_accuracy: 0.5000\n",
      "Epoch 12/100\n",
      "100/100 [==============================] - 0s 241us/step - loss: 0.0000e+00 - binary_accuracy: 0.5000\n",
      "Epoch 13/100\n",
      "100/100 [==============================] - 0s 170us/step - loss: 0.0000e+00 - binary_accuracy: 0.5000\n",
      "Epoch 14/100\n",
      "100/100 [==============================] - 0s 181us/step - loss: 0.0000e+00 - binary_accuracy: 0.5000\n",
      "Epoch 15/100\n",
      "100/100 [==============================] - 0s 281us/step - loss: 0.0000e+00 - binary_accuracy: 0.5000\n",
      "Epoch 16/100\n",
      "100/100 [==============================] - 0s 281us/step - loss: 0.0000e+00 - binary_accuracy: 0.5000\n",
      "Epoch 17/100\n",
      "100/100 [==============================] - 0s 191us/step - loss: 0.0000e+00 - binary_accuracy: 0.5000\n",
      "Epoch 18/100\n",
      "100/100 [==============================] - 0s 241us/step - loss: 0.0000e+00 - binary_accuracy: 0.5000\n",
      "Epoch 19/100\n",
      "100/100 [==============================] - 0s 220us/step - loss: 0.0000e+00 - binary_accuracy: 0.5000\n",
      "Epoch 20/100\n",
      "100/100 [==============================] - 0s 201us/step - loss: 0.0000e+00 - binary_accuracy: 0.5000\n",
      "Epoch 21/100\n",
      "100/100 [==============================] - 0s 191us/step - loss: 0.0000e+00 - binary_accuracy: 0.5000\n",
      "Epoch 22/100\n",
      "100/100 [==============================] - 0s 251us/step - loss: 0.0000e+00 - binary_accuracy: 0.5000\n",
      "Epoch 23/100\n",
      "100/100 [==============================] - 0s 200us/step - loss: 0.0000e+00 - binary_accuracy: 0.5000\n",
      "Epoch 24/100\n",
      "100/100 [==============================] - 0s 241us/step - loss: 0.0000e+00 - binary_accuracy: 0.5000\n",
      "Epoch 25/100\n",
      "100/100 [==============================] - 0s 140us/step - loss: 0.0000e+00 - binary_accuracy: 0.5000\n",
      "Epoch 26/100\n",
      "100/100 [==============================] - 0s 251us/step - loss: 0.0000e+00 - binary_accuracy: 0.5000\n",
      "Epoch 27/100\n",
      "100/100 [==============================] - 0s 321us/step - loss: 0.0000e+00 - binary_accuracy: 0.5000\n",
      "Epoch 28/100\n",
      "100/100 [==============================] - 0s 211us/step - loss: 0.0000e+00 - binary_accuracy: 0.5000\n",
      "Epoch 29/100\n",
      "100/100 [==============================] - 0s 180us/step - loss: 0.0000e+00 - binary_accuracy: 0.5000\n",
      "Epoch 30/100\n",
      "100/100 [==============================] - 0s 231us/step - loss: 0.0000e+00 - binary_accuracy: 0.5000\n",
      "Epoch 31/100\n",
      "100/100 [==============================] - 0s 241us/step - loss: 0.0000e+00 - binary_accuracy: 0.5000\n",
      "Epoch 32/100\n",
      "100/100 [==============================] - 0s 271us/step - loss: 0.0000e+00 - binary_accuracy: 0.5000\n",
      "Epoch 33/100\n",
      "100/100 [==============================] - 0s 241us/step - loss: 0.0000e+00 - binary_accuracy: 0.5000\n",
      "Epoch 34/100\n",
      "100/100 [==============================] - 0s 241us/step - loss: 0.0000e+00 - binary_accuracy: 0.5000\n",
      "Epoch 35/100\n",
      "100/100 [==============================] - 0s 291us/step - loss: 0.0000e+00 - binary_accuracy: 0.5000\n",
      "Epoch 36/100\n",
      "100/100 [==============================] - 0s 221us/step - loss: 0.0000e+00 - binary_accuracy: 0.5000\n",
      "Epoch 37/100\n",
      "100/100 [==============================] - 0s 291us/step - loss: 0.0000e+00 - binary_accuracy: 0.5000\n",
      "Epoch 38/100\n",
      "100/100 [==============================] - 0s 221us/step - loss: 0.0000e+00 - binary_accuracy: 0.5000\n",
      "Epoch 39/100\n",
      "100/100 [==============================] - 0s 190us/step - loss: 0.0000e+00 - binary_accuracy: 0.5000\n",
      "Epoch 40/100\n",
      "100/100 [==============================] - 0s 241us/step - loss: 0.0000e+00 - binary_accuracy: 0.5000\n",
      "Epoch 41/100\n",
      "100/100 [==============================] - 0s 170us/step - loss: 0.0000e+00 - binary_accuracy: 0.5000\n",
      "Epoch 42/100\n",
      "100/100 [==============================] - 0s 241us/step - loss: 0.0000e+00 - binary_accuracy: 0.5000\n",
      "Epoch 43/100\n",
      "100/100 [==============================] - 0s 170us/step - loss: 0.0000e+00 - binary_accuracy: 0.5000\n",
      "Epoch 44/100\n",
      "100/100 [==============================] - 0s 281us/step - loss: 0.0000e+00 - binary_accuracy: 0.5000\n",
      "Epoch 45/100\n",
      "100/100 [==============================] - 0s 211us/step - loss: 0.0000e+00 - binary_accuracy: 0.5000\n",
      "Epoch 46/100\n",
      "100/100 [==============================] - 0s 221us/step - loss: 0.0000e+00 - binary_accuracy: 0.5000\n",
      "Epoch 47/100\n",
      "100/100 [==============================] - 0s 221us/step - loss: 0.0000e+00 - binary_accuracy: 0.5000\n",
      "Epoch 48/100\n",
      "100/100 [==============================] - 0s 190us/step - loss: 0.0000e+00 - binary_accuracy: 0.5000\n",
      "Epoch 49/100\n",
      "100/100 [==============================] - 0s 211us/step - loss: 0.0000e+00 - binary_accuracy: 0.5000\n",
      "Epoch 50/100\n",
      "100/100 [==============================] - 0s 231us/step - loss: 0.0000e+00 - binary_accuracy: 0.5000\n",
      "Epoch 51/100\n",
      "100/100 [==============================] - 0s 221us/step - loss: 0.0000e+00 - binary_accuracy: 0.5000\n",
      "Epoch 52/100\n",
      "100/100 [==============================] - 0s 251us/step - loss: 0.0000e+00 - binary_accuracy: 0.5000\n",
      "Epoch 53/100\n",
      "100/100 [==============================] - 0s 180us/step - loss: 0.0000e+00 - binary_accuracy: 0.5000\n",
      "Epoch 54/100\n",
      "100/100 [==============================] - 0s 271us/step - loss: 0.0000e+00 - binary_accuracy: 0.5000\n",
      "Epoch 55/100\n",
      "100/100 [==============================] - 0s 271us/step - loss: 0.0000e+00 - binary_accuracy: 0.5000\n",
      "Epoch 56/100\n",
      "100/100 [==============================] - 0s 171us/step - loss: 0.0000e+00 - binary_accuracy: 0.5000\n",
      "Epoch 57/100\n",
      "100/100 [==============================] - 0s 170us/step - loss: 0.0000e+00 - binary_accuracy: 0.5000\n",
      "Epoch 58/100\n",
      "100/100 [==============================] - 0s 150us/step - loss: 0.0000e+00 - binary_accuracy: 0.5000\n",
      "Epoch 59/100\n",
      "100/100 [==============================] - 0s 160us/step - loss: 0.0000e+00 - binary_accuracy: 0.5000\n",
      "Epoch 60/100\n",
      "100/100 [==============================] - 0s 211us/step - loss: 0.0000e+00 - binary_accuracy: 0.5000\n",
      "Epoch 61/100\n",
      "100/100 [==============================] - 0s 241us/step - loss: 0.0000e+00 - binary_accuracy: 0.5000\n",
      "Epoch 62/100\n",
      "100/100 [==============================] - 0s 180us/step - loss: 0.0000e+00 - binary_accuracy: 0.5000\n",
      "Epoch 63/100\n",
      "100/100 [==============================] - 0s 140us/step - loss: 0.0000e+00 - binary_accuracy: 0.5000\n",
      "Epoch 64/100\n",
      "100/100 [==============================] - 0s 170us/step - loss: 0.0000e+00 - binary_accuracy: 0.5000\n",
      "Epoch 65/100\n",
      "100/100 [==============================] - 0s 150us/step - loss: 0.0000e+00 - binary_accuracy: 0.5000\n",
      "Epoch 66/100\n",
      "100/100 [==============================] - 0s 160us/step - loss: 0.0000e+00 - binary_accuracy: 0.5000\n",
      "Epoch 67/100\n",
      "100/100 [==============================] - 0s 140us/step - loss: 0.0000e+00 - binary_accuracy: 0.5000\n",
      "Epoch 68/100\n",
      "100/100 [==============================] - 0s 160us/step - loss: 0.0000e+00 - binary_accuracy: 0.5000\n",
      "Epoch 69/100\n",
      "100/100 [==============================] - 0s 160us/step - loss: 0.0000e+00 - binary_accuracy: 0.5000\n",
      "Epoch 70/100\n",
      "100/100 [==============================] - 0s 191us/step - loss: 0.0000e+00 - binary_accuracy: 0.5000\n",
      "Epoch 71/100\n",
      "100/100 [==============================] - 0s 191us/step - loss: 0.0000e+00 - binary_accuracy: 0.5000\n",
      "Epoch 72/100\n"
     ]
    },
    {
     "name": "stdout",
     "output_type": "stream",
     "text": [
      "100/100 [==============================] - 0s 161us/step - loss: 0.0000e+00 - binary_accuracy: 0.5000\n",
      "Epoch 73/100\n",
      "100/100 [==============================] - 0s 201us/step - loss: 0.0000e+00 - binary_accuracy: 0.5000\n",
      "Epoch 74/100\n",
      "100/100 [==============================] - 0s 201us/step - loss: 0.0000e+00 - binary_accuracy: 0.5000\n",
      "Epoch 75/100\n",
      "100/100 [==============================] - 0s 191us/step - loss: 0.0000e+00 - binary_accuracy: 0.5000\n",
      "Epoch 76/100\n",
      "100/100 [==============================] - 0s 180us/step - loss: 0.0000e+00 - binary_accuracy: 0.5000\n",
      "Epoch 77/100\n",
      "100/100 [==============================] - 0s 201us/step - loss: 0.0000e+00 - binary_accuracy: 0.5000\n",
      "Epoch 78/100\n",
      "100/100 [==============================] - 0s 201us/step - loss: 0.0000e+00 - binary_accuracy: 0.5000\n",
      "Epoch 79/100\n",
      "100/100 [==============================] - 0s 160us/step - loss: 0.0000e+00 - binary_accuracy: 0.5000\n",
      "Epoch 80/100\n",
      "100/100 [==============================] - 0s 180us/step - loss: 0.0000e+00 - binary_accuracy: 0.5000\n",
      "Epoch 81/100\n",
      "100/100 [==============================] - 0s 160us/step - loss: 0.0000e+00 - binary_accuracy: 0.5000\n",
      "Epoch 82/100\n",
      "100/100 [==============================] - 0s 170us/step - loss: 0.0000e+00 - binary_accuracy: 0.5000\n",
      "Epoch 83/100\n",
      "100/100 [==============================] - 0s 160us/step - loss: 0.0000e+00 - binary_accuracy: 0.5000\n",
      "Epoch 84/100\n",
      "100/100 [==============================] - 0s 190us/step - loss: 0.0000e+00 - binary_accuracy: 0.5000\n",
      "Epoch 85/100\n",
      "100/100 [==============================] - 0s 170us/step - loss: 0.0000e+00 - binary_accuracy: 0.5000\n",
      "Epoch 86/100\n",
      "100/100 [==============================] - 0s 170us/step - loss: 0.0000e+00 - binary_accuracy: 0.5000\n",
      "Epoch 87/100\n",
      "100/100 [==============================] - ETA: 0s - loss: -1.0074 - binary_accuracy: 0.53 - 0s 180us/step - loss: 0.0000e+00 - binary_accuracy: 0.5000\n",
      "Epoch 88/100\n",
      "100/100 [==============================] - 0s 150us/step - loss: 0.0000e+00 - binary_accuracy: 0.5000\n",
      "Epoch 89/100\n",
      "100/100 [==============================] - 0s 170us/step - loss: 0.0000e+00 - binary_accuracy: 0.5000\n",
      "Epoch 90/100\n",
      "100/100 [==============================] - 0s 120us/step - loss: 0.0000e+00 - binary_accuracy: 0.5000\n",
      "Epoch 91/100\n",
      "100/100 [==============================] - 0s 180us/step - loss: 0.0000e+00 - binary_accuracy: 0.5000\n",
      "Epoch 92/100\n",
      "100/100 [==============================] - 0s 180us/step - loss: 0.0000e+00 - binary_accuracy: 0.5000\n",
      "Epoch 93/100\n",
      "100/100 [==============================] - 0s 180us/step - loss: 0.0000e+00 - binary_accuracy: 0.5000\n",
      "Epoch 94/100\n",
      "100/100 [==============================] - 0s 191us/step - loss: 0.0000e+00 - binary_accuracy: 0.5000\n",
      "Epoch 95/100\n",
      "100/100 [==============================] - 0s 170us/step - loss: 0.0000e+00 - binary_accuracy: 0.5000\n",
      "Epoch 96/100\n",
      "100/100 [==============================] - 0s 170us/step - loss: 0.0000e+00 - binary_accuracy: 0.5000\n",
      "Epoch 97/100\n",
      "100/100 [==============================] - 0s 170us/step - loss: 0.0000e+00 - binary_accuracy: 0.5000\n",
      "Epoch 98/100\n",
      "100/100 [==============================] - 0s 170us/step - loss: 0.0000e+00 - binary_accuracy: 0.5000\n",
      "Epoch 99/100\n",
      "100/100 [==============================] - 0s 150us/step - loss: 0.0000e+00 - binary_accuracy: 0.5000\n",
      "Epoch 100/100\n",
      "100/100 [==============================] - 0s 160us/step - loss: 0.0000e+00 - binary_accuracy: 0.5000\n"
     ]
    }
   ],
   "source": [
    "history = model.fit(Xtr, ytr, epochs=100)"
   ]
  },
  {
   "cell_type": "code",
   "execution_count": 11,
   "metadata": {},
   "outputs": [
    {
     "name": "stdout",
     "output_type": "stream",
     "text": [
      "400/400 [==============================] - 0s 98us/step\n"
     ]
    },
    {
     "data": {
      "text/plain": [
       "[0.0, 0.5]"
      ]
     },
     "execution_count": 11,
     "metadata": {},
     "output_type": "execute_result"
    }
   ],
   "source": [
    "model.evaluate(Xte, yte)"
   ]
  },
  {
   "cell_type": "code",
   "execution_count": null,
   "metadata": {},
   "outputs": [],
   "source": []
  }
 ],
 "metadata": {
  "kernelspec": {
   "display_name": "Python 3",
   "language": "python",
   "name": "python3"
  },
  "language_info": {
   "codemirror_mode": {
    "name": "ipython",
    "version": 3
   },
   "file_extension": ".py",
   "mimetype": "text/x-python",
   "name": "python",
   "nbconvert_exporter": "python",
   "pygments_lexer": "ipython3",
   "version": "3.5.2"
  }
 },
 "nbformat": 4,
 "nbformat_minor": 2
}
